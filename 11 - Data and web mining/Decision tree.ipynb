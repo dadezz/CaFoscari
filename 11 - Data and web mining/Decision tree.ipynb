{
 "cells": [
  {
   "cell_type": "markdown",
   "metadata": {},
   "source": [
    "# Decision tree\n",
    "ho un dataset -> qualunqu modello con un etichetta non farei knn ma dividerei i dati per aree.\n",
    "\n",
    "L'albero di decisione fa più o meno questo. al posto di avere una regola per area, ha un solo oggetto. esegue un test e poi raffina man mano.\n",
    "nodi interni con predicati e foglie con predizioni.\n",
    "\n",
    "algoritmo greedy.\n",
    "qual è l'albero migliore? eh, facendo prove. li algoritmi standard le provano tutte. lol ci torno tra un attimo\n",
    "convenzione -> a sx vero, a dx falso\n",
    "\n",
    "Ci cocentreremo su alberi binari con condizione \"<=\".\n",
    "\n",
    "## Come faccio ad arrivare a quell'albero a partire dai dati?\n",
    "purtroppo non c'è un modo furbo o greedy.\n",
    "\n",
    "### Algoritmo di Hunt\n",
    "<div class=\"alert alert-info\">\n",
    "\n",
    "**BuildTree**(${\\cal D}$):\n",
    "\n",
    "1. *BestSplit*, *BestGain* = *None*\n",
    "1. **For each** feature $f$\n",
    "1. $\\quad$ **For each** threshold $t$\n",
    "1. $\\quad\\quad$ *Gain* $\\gets$ goodness of the split $(f \\leq t)$\n",
    "1. $\\quad\\quad$ **If** Gain>=BestGain:\n",
    "1. $\\quad\\quad\\quad$ *BestGain* $\\gets$ *Gain*\n",
    "1. $\\quad\\quad\\quad$ BestSplit* $\\gets$ $(f \\leq t)$\n",
    "1. **If** *BestGain*$=0$ or *other stopping criterion is met*:\n",
    "1. $\\quad$ $\\mu \\gets$ the best prediction for ${\\cal D}$\n",
    "1. $\\quad$ **Return** $Leaf(\\mu)$\n",
    "1. Let $f$ and $t$ be those of BestSplit = $(f \\leq t)$\n",
    "1. ${\\cal D}_L \\gets \\{x \\in {\\cal D} ~|~ x_f\\leq t\\}$ *(Left Partition)*\n",
    "1. $L \\gets$  **BuildTree**(${\\cal D}_L$) *(Left Child)*\n",
    "1. ${\\cal D}_R \\gets \\{x \\in {\\cal D} ~|~ x_f > t\\}$ *(Right Partition)*\n",
    "1. $R \\gets$  **BuildTree**(${\\cal D}_R$) *(Right Child)*\n",
    "1. **Return** $Node(L,R)$\n",
    "</div>\n",
    "\n",
    "\n",
    "per tutte le combinazioni feature / soglia, guardo la bontà della divisione. se finitii cicli, non non ho ottenuto vantaggi\n",
    "\n"
   ]
  },
  {
   "cell_type": "code",
   "execution_count": null,
   "metadata": {},
   "outputs": [],
   "source": []
  }
 ],
 "metadata": {
  "language_info": {
   "name": "python"
  }
 },
 "nbformat": 4,
 "nbformat_minor": 2
}
